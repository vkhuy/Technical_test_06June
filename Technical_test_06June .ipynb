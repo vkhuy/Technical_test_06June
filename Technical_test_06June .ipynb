{
 "cells": [
  {
   "cell_type": "code",
   "execution_count": 1,
   "metadata": {},
   "outputs": [
    {
     "name": "stdout",
     "output_type": "stream",
     "text": [
      "ID: Seq02.10\n",
      "Name: Seq02.10\n",
      "Description: Seq02.10\n",
      "Number of features: 0\n",
      "Seq('TTACGCTGGCGGCGCGTCTAATACATGCAAGTCGTACAGAAGTATAAGCAGCAA...GCA')\n"
     ]
    }
   ],
   "source": [
    "from Bio import SeqIO\n",
    "from Bio.Seq import Seq\n",
    "\n",
    "\n",
    "# Read the FASTA file and extract the sequences\n",
    "sequences = []\n",
    "with open(\"Seq02.fasta\", \"r\") as file:\n",
    "    for record in SeqIO.parse(file, \"fasta\"):\n",
    "        sequences.append(str(record.seq))\n",
    "\n",
    "\n",
    "\n",
    "print(record)"
   ]
  },
  {
   "cell_type": "code",
   "execution_count": null,
   "metadata": {},
   "outputs": [],
   "source": []
  }
 ],
 "metadata": {
  "kernelspec": {
   "display_name": "Python 3",
   "language": "python",
   "name": "python3"
  },
  "language_info": {
   "codemirror_mode": {
    "name": "ipython",
    "version": 3
   },
   "file_extension": ".py",
   "mimetype": "text/x-python",
   "name": "python",
   "nbconvert_exporter": "python",
   "pygments_lexer": "ipython3",
   "version": "3.11.0"
  },
  "orig_nbformat": 4
 },
 "nbformat": 4,
 "nbformat_minor": 2
}
